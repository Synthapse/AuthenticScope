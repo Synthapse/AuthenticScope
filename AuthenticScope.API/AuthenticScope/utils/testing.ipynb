{
 "cells": [
  {
   "cell_type": "code",
   "execution_count": 5,
   "metadata": {},
   "outputs": [],
   "source": [
    "from audiogen import audio_generator\n",
    "from summarize import summarize_text\n",
    "import requests"
   ]
  },
  {
   "cell_type": "code",
   "execution_count": 6,
   "metadata": {},
   "outputs": [],
   "source": [
    "audio_generator('hello this api of Elevenlabs is working approximately fine')"
   ]
  },
  {
   "cell_type": "code",
   "execution_count": 8,
   "metadata": {},
   "outputs": [],
   "source": [
    "text = \"\"\"Collaboration is a powerful concept that lies at the heart of human progress and achievement. It is the art of individuals coming together, pooling their unique skills, knowledge, and perspectives to achieve a common goal. In a collaborative environment, people work as a team, transcending individual limitations to unlock collective potential. This synergy enables the generation of innovative ideas, problem-solving with diverse approaches, and the execution of tasks with greater efficiency.\n",
    "\n",
    "The benefits of collaboration extend across various domains. In the workplace, it fosters a sense of community, trust, and mutual respect among team members. It promotes open communication and active listening, facilitating the exchange of constructive feedback. Through collaboration, organizations can adapt to dynamic challenges, capitalize on emerging opportunities, and remain competitive in an ever-changing landscape.\n",
    "\n",
    "Moreover, collaboration extends beyond corporate settings. In the realms of science, arts, and social initiatives, collaborative efforts have led to groundbreaking discoveries, masterpieces, and positive societal change. It is a testament to the idea that true greatness is often achieved together rather than alone.\n",
    "\n",
    "In conclusion, collaboration is a dynamic force that brings people together, propelling them to achieve what would be unattainable in isolation. By fostering teamwork, communication, and innovation, collaboration serves as the bedrock of progress in both professional and personal spheres.\"\"\"\n",
    "summary = summarize_text(text)"
   ]
  },
  {
   "cell_type": "code",
   "execution_count": 9,
   "metadata": {},
   "outputs": [
    {
     "data": {
      "text/plain": [
       "211"
      ]
     },
     "execution_count": 9,
     "metadata": {},
     "output_type": "execute_result"
    }
   ],
   "source": [
    "len(text.split())"
   ]
  },
  {
   "cell_type": "code",
   "execution_count": 10,
   "metadata": {},
   "outputs": [
    {
     "data": {
      "text/plain": [
       "64"
      ]
     },
     "execution_count": 10,
     "metadata": {},
     "output_type": "execute_result"
    }
   ],
   "source": [
    "len(summary.split())"
   ]
  },
  {
   "cell_type": "code",
   "execution_count": 11,
   "metadata": {},
   "outputs": [],
   "source": [
    "summary2 = summarize_text(summary)"
   ]
  },
  {
   "cell_type": "code",
   "execution_count": 13,
   "metadata": {},
   "outputs": [
    {
     "data": {
      "text/plain": [
       "'Collaboration allows people to transcend individual limitations to unlock collective potential, and allows organizations to adapt to dynamic challenges and capitalize on emerging opportunities.'"
      ]
     },
     "execution_count": 13,
     "metadata": {},
     "output_type": "execute_result"
    }
   ],
   "source": [
    "summary2"
   ]
  },
  {
   "cell_type": "code",
   "execution_count": 12,
   "metadata": {},
   "outputs": [
    {
     "data": {
      "text/plain": [
       "24"
      ]
     },
     "execution_count": 12,
     "metadata": {},
     "output_type": "execute_result"
    }
   ],
   "source": [
    "len(summary2.split())"
   ]
  },
  {
   "cell_type": "code",
   "execution_count": 14,
   "metadata": {},
   "outputs": [],
   "source": [
    "audio_generator(summary)"
   ]
  },
  {
   "cell_type": "code",
   "execution_count": 15,
   "metadata": {},
   "outputs": [
    {
     "data": {
      "text/plain": [
       "'Collaboration is a powerful concept that lies at the heart of human progress and achievement. It allows people to transcend individual limitations to unlock collective potential.\\nCollaboration fosters a sense of community, trust, and mutual respect among team members, and allows organizations to adapt to dynamic challenges, capitalize on emerging opportunities, and remain competitive in an ever-changing landscape. Moreover, collaboration extends beyond corporate settings.'"
      ]
     },
     "execution_count": 15,
     "metadata": {},
     "output_type": "execute_result"
    }
   ],
   "source": [
    "summary"
   ]
  },
  {
   "cell_type": "code",
   "execution_count": null,
   "metadata": {},
   "outputs": [],
   "source": [
    "from get_voice_id import get_voice_id, matched_voices"
   ]
  },
  {
   "cell_type": "code",
   "execution_count": null,
   "metadata": {},
   "outputs": [
    {
     "data": {
      "text/plain": [
       "'21m00Tcm4TlvDq8ikWAM'"
      ]
     },
     "metadata": {},
     "output_type": "display_data"
    }
   ],
   "source": [
    "get_voice_id(accent = 'american',age='young', gender='female',description='calm')"
   ]
  },
  {
   "cell_type": "code",
   "execution_count": null,
   "metadata": {},
   "outputs": [
    {
     "data": {
      "text/html": [
       "<div>\n",
       "<style scoped>\n",
       "    .dataframe tbody tr th:only-of-type {\n",
       "        vertical-align: middle;\n",
       "    }\n",
       "\n",
       "    .dataframe tbody tr th {\n",
       "        vertical-align: top;\n",
       "    }\n",
       "\n",
       "    .dataframe thead th {\n",
       "        text-align: right;\n",
       "    }\n",
       "</style>\n",
       "<table border=\"1\" class=\"dataframe\">\n",
       "  <thead>\n",
       "    <tr style=\"text-align: right;\">\n",
       "      <th></th>\n",
       "      <th>Unnamed: 0</th>\n",
       "      <th>names</th>\n",
       "      <th>accent</th>\n",
       "      <th>description</th>\n",
       "      <th>age</th>\n",
       "      <th>gender</th>\n",
       "      <th>use_case</th>\n",
       "      <th>voice_id</th>\n",
       "    </tr>\n",
       "  </thead>\n",
       "  <tbody>\n",
       "    <tr>\n",
       "      <th>0</th>\n",
       "      <td>0</td>\n",
       "      <td>Rachel</td>\n",
       "      <td>american</td>\n",
       "      <td>calm</td>\n",
       "      <td>young</td>\n",
       "      <td>female</td>\n",
       "      <td>narration</td>\n",
       "      <td>21m00Tcm4TlvDq8ikWAM</td>\n",
       "    </tr>\n",
       "    <tr>\n",
       "      <th>9</th>\n",
       "      <td>9</td>\n",
       "      <td>Emily</td>\n",
       "      <td>american</td>\n",
       "      <td>calm</td>\n",
       "      <td>young</td>\n",
       "      <td>female</td>\n",
       "      <td>meditation</td>\n",
       "      <td>LcfcDJNUP1GQjkzn1xUU</td>\n",
       "    </tr>\n",
       "  </tbody>\n",
       "</table>\n",
       "</div>"
      ],
      "text/plain": [
       "   Unnamed: 0   names    accent description    age  gender    use_case  \\\n",
       "0           0  Rachel  american        calm  young  female   narration   \n",
       "9           9   Emily  american        calm  young  female  meditation   \n",
       "\n",
       "               voice_id  \n",
       "0  21m00Tcm4TlvDq8ikWAM  \n",
       "9  LcfcDJNUP1GQjkzn1xUU  "
      ]
     },
     "metadata": {},
     "output_type": "display_data"
    }
   ],
   "source": [
    "matched_voices(accent = 'american',age='young', gender='female',description='calm')"
   ]
  },
  {
   "cell_type": "code",
   "execution_count": 3,
   "metadata": {},
   "outputs": [],
   "source": [
    "import pandas as pd"
   ]
  },
  {
   "cell_type": "code",
   "execution_count": 5,
   "metadata": {},
   "outputs": [],
   "source": [
    "df = pd.read_csv('voices_id.csv')"
   ]
  },
  {
   "cell_type": "code",
   "execution_count": 12,
   "metadata": {},
   "outputs": [
    {
     "name": "stdout",
     "output_type": "stream",
     "text": [
      "[0 'Rachel' 'american' 'calm' 'young' 'female' 'narration'\n",
      " '21m00Tcm4TlvDq8ikWAM']\n",
      "[1 'Clyde' 'american' 'war veteran' 'middle aged' 'male' 'video games'\n",
      " '2EiwWnXFnvU5JabPnv8n']\n",
      "[2 'Domi' 'american' 'strong' 'young' 'female' 'narration'\n",
      " 'AZnzlk1XvdvUeBnXmlld']\n",
      "[3 'Dave' 'british-essex' 'conversational' 'young' 'male' 'video games'\n",
      " 'CYw3kZ02Hs0563khs1Fj']\n",
      "[4 'Fin' 'irish' 'sailor' 'old' 'male' 'video games'\n",
      " 'D38z5RcWu1voky8WS1ja']\n",
      "[5 'Bella' 'american' 'soft' 'young' 'female' 'narration'\n",
      " 'EXAVITQu4vr4xnSDxMaL']\n",
      "[6 'Antoni' 'american' 'well-rounded' 'young' 'male' 'narration'\n",
      " 'ErXwobaYiN019PkySvjV']\n",
      "[7 'Thomas' 'american' 'calm' 'young' 'male' 'meditation'\n",
      " 'GBv7mTt0atIp3Br8iCZE']\n",
      "[8 'Charlie' 'australian' 'casual' 'middle aged' 'male' 'conversational'\n",
      " 'IKne3meq5aSn9XLyUdCD']\n",
      "[9 'Emily' 'american' 'calm' 'young' 'female' 'meditation'\n",
      " 'LcfcDJNUP1GQjkzn1xUU']\n",
      "[10 'Elli' 'american' 'emotional' 'young' 'female' 'narration'\n",
      " 'MF3mGyEYCl7XYWbV9V6O']\n",
      "[11 'Callum' 'american' 'hoarse' 'middle aged' 'male' 'video games'\n",
      " 'N2lVS1w4EtoT3dr4eOWO']\n",
      "[12 'Patrick' 'american' 'shouty' 'middle aged' 'male' 'video games'\n",
      " 'ODq5zmih8GrVes37Dizd']\n",
      "[13 'Harry' 'american' 'anxious' 'young' 'male' 'video games'\n",
      " 'SOYHLrjzK2X1ezoPC6cr']\n",
      "[14 'Liam' 'american' 'neutral' 'young' 'male' 'narration'\n",
      " 'TX3LPaxmHKxFdv7VOQHJ']\n",
      "[15 'Dorothy' 'british' 'pleasant' 'young' 'female' \"children's stories\"\n",
      " 'ThT5KcBeYPX3keUQqHPh']\n",
      "[16 'Josh' 'american' 'deep' 'young' 'male' 'narration'\n",
      " 'TxGEqnHWrfWFTfGW9XjX']\n",
      "[17 'Arnold' 'american' 'crisp' 'middle aged' 'male' 'narration'\n",
      " 'VR6AewLTigWG4xSOukaG']\n",
      "[18 'Charlotte' 'english-swedish' 'seductive' 'middle aged' 'female'\n",
      " 'video games' 'XB0fDUnXU5powFXDhCwa']\n",
      "[19 'Matilda' 'american' 'warm' 'young' 'female' 'audiobook'\n",
      " 'XrExE9yKIg1WjnnlVkGX']\n",
      "[20 'Matthew' 'british' 'calm' 'middle aged' 'male' 'audiobook'\n",
      " 'Yko7PKHZNXotIFUBG7I9']\n",
      "[21 'James' 'australian' 'calm' 'old' 'male' 'news' 'ZQe5CZNOzWyzPSCn5a3c']\n",
      "[22 'Joseph' 'british' 'ground reporter' 'middle aged' 'male' 'news'\n",
      " 'Zlb1dXrM653N07WRdFW3']\n",
      "[23 'Jeremy' 'american-irish' 'excited' 'young' 'male' 'narration'\n",
      " 'bVMeCyTHy58xNoL34h3p']\n",
      "[24 'Michael' 'american' 'orotund' 'old' 'male' 'audiobook'\n",
      " 'flq6f7yk4E4fJM5XTYuZ']\n",
      "[25 'Ethan' 'american' 'whisper' 'young' 'male' 'ASMR'\n",
      " 'g5CIjZEefAph4nQFvHAz']\n",
      "[26 'Gigi' 'american' 'childlish' 'young' 'female' 'animation'\n",
      " 'jBpfuIE2acCO8z3wKNLl']\n",
      "[27 'Freya' 'american' 'overhyped' 'young' 'female' 'video games'\n",
      " 'jsCqWAovK2LkecY7zXl4']\n",
      "[28 'Grace' 'american-southern' 'gentle' 'young' 'female' 'audiobook'\n",
      " 'oWAxZDx7w5VEj9dCyTzz']\n",
      "[29 'Daniel' 'british' 'deep' 'middle aged' 'male' 'news presenter'\n",
      " 'onwK4e9ZLuTAKqWW03F9']\n",
      "[30 'Serena' 'american' 'pleasant' 'middle aged' 'female' 'interactive'\n",
      " 'pMsXgVXv3BLzUgSXRplE']\n",
      "[31 'Adam' 'american' 'deep' 'middle aged' 'male' 'narration'\n",
      " 'pNInz6obpgDQGcFmaJgB']\n",
      "[32 'Nicole' 'american' 'whisper' 'young' 'female' 'audiobook'\n",
      " 'piTKgcLEGmPE4e6mEKli']\n",
      "[33 'Jessie' 'american' 'raspy' 'old' 'male' 'video games'\n",
      " 't0jbNlBVZ17f02VDIeMI']\n",
      "[34 'Ryan' 'american' 'soldier' 'middle aged' 'male' 'audiobook'\n",
      " 'wViXBPUzp2ZZixB1xQuM']\n",
      "[35 'Sam' 'american' 'raspy' 'young' 'male' 'narration'\n",
      " 'yoZ06aMxZJJ28mfd3POQ']\n",
      "[36 'Glinda' 'american' 'witch' 'middle aged' 'female' 'video games'\n",
      " 'z9fAnlkpzviPz146aGWa']\n",
      "[37 'Giovanni' 'english-italian' 'foreigner' 'young' 'male' 'audiobook'\n",
      " 'zcAOhNBS3c14rBihAFp1']\n",
      "[38 'Mimi' 'english-swedish' 'childish' 'young' 'female' 'animation'\n",
      " 'zrHiDhphv9ZnVXBqCLjz']\n"
     ]
    }
   ],
   "source": [
    "for i in df.values:\n",
    "    print(i)"
   ]
  },
  {
   "cell_type": "code",
   "execution_count": 17,
   "metadata": {},
   "outputs": [],
   "source": [
    "df2 = df.drop('Unnamed: 0',axis=1)\n",
    "voices = []\n",
    "for i in range(len(df2)):\n",
    "    voices.append(df2.loc[i].to_dict())"
   ]
  },
  {
   "cell_type": "code",
   "execution_count": 19,
   "metadata": {},
   "outputs": [
    {
     "data": {
      "text/plain": [
       "39"
      ]
     },
     "execution_count": 19,
     "metadata": {},
     "output_type": "execute_result"
    }
   ],
   "source": [
    "len(voices )"
   ]
  },
  {
   "cell_type": "code",
   "execution_count": null,
   "metadata": {},
   "outputs": [],
   "source": []
  }
 ],
 "metadata": {
  "kernelspec": {
   "display_name": "Python 3",
   "language": "python",
   "name": "python3"
  },
  "language_info": {
   "codemirror_mode": {
    "name": "ipython",
    "version": 3
   },
   "file_extension": ".py",
   "mimetype": "text/x-python",
   "name": "python",
   "nbconvert_exporter": "python",
   "pygments_lexer": "ipython3",
   "version": "3.11.2"
  },
  "orig_nbformat": 4
 },
 "nbformat": 4,
 "nbformat_minor": 2
}
