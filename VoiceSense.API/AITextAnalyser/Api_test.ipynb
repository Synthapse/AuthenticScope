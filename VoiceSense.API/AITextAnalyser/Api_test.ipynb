{
 "cells": [
  {
   "cell_type": "code",
   "execution_count": 3,
   "metadata": {},
   "outputs": [],
   "source": [
    "import ai21"
   ]
  },
  {
   "cell_type": "code",
   "execution_count": 5,
   "metadata": {},
   "outputs": [],
   "source": [
    "ai21.api_key = \"To0TSwbaSFhc8XcMykbLxInNWh5gFmef\""
   ]
  },
  {
   "attachments": {},
   "cell_type": "markdown",
   "metadata": {},
   "source": [
    "## API Parameters\n",
    "Each of these parameters can be used to customize the behavior of the Jurassic-2 language models, allowing developers to fine-tune the model's responses to better suit their needs:\n",
    "\n",
    "- prompt: This is the starting point for generating responses. The format of the prompt, whether zero-shot, few-shot, or instructional, can influence the shape of the model's responses. Refer to this guide for more on prompt engineering.\n",
    "\n",
    "- numResults: The number of responses to generate for a given prompt.\n",
    "\n",
    "- maxTokens: The maximum number of tokens to generate for each response.\n",
    "\n",
    "- minTokens: The minimum number of tokens to generate for each response.\n",
    "\n",
    "- temperature: A value controlling the \"creativity\" of the model's responses.\n",
    "\n",
    "- topP: A value controlling the diversity of the model's responses.\n",
    "\n",
    "- stopSequences: A list of sequences that, when generated, will cause the model to stop generating tokens.\n",
    "\n",
    "- topKReturn: The number of top-scoring tokens to consider for each generation step.\n",
    "\n",
    "- frequencyPenalty: A penalty applied to tokens that are frequently generated.\n",
    "\n",
    "- presencePenalty: A penalty applied to tokens that are already present in the prompt.\n",
    "\n",
    "- countPenalty: A penalty applied to tokens based on their frequency in the generated responses."
   ]
  },
  {
   "cell_type": "code",
   "execution_count": 38,
   "metadata": {},
   "outputs": [],
   "source": [
    "model = 'j2-ultra'\n",
    "prompt = \"Amazing Useful Ideas for Plugins powered by AI Large Language Model.\"\n",
    "maxTokens = 400\n",
    "minTokens = 150"
   ]
  },
  {
   "cell_type": "code",
   "execution_count": 39,
   "metadata": {},
   "outputs": [
    {
     "name": "stdout",
     "output_type": "stream",
     "text": [
      "\n",
      "1. Using AI to generate content: You can use AI to generate content for your website, such as articles or product descriptions. This can be useful if you don't have a lot of original content available or if you are struggling to come up with new ideas.\n",
      "2. Improving SEO: You can use AI to help you optimize your website for search engines. This can include suggesting keywords, analyzing your content and identifying areas for improvement, and creating meta tags and sitemaps.\n",
      "3. Generating insights: AI can help you analyze your website data and identify trends. This information can then be used to make business decisions, such as optimizing your marketing strategy or improving your user experience.\n",
      "4. Generating translations: You can use AI to automatically translate your website into different languages. This can be especially useful if you have a global audience or if you are looking to expand into new markets.\n",
      "5. Analyzing customer feedback: You can use AI to analyze customer feedback and sentiment. This can help you identify issues that need to be addressed and ensure that your customers are getting the best possible service.\n",
      "6. Providing customer service: AI can also be used to provide customer support. This can include answering questions, providing troubleshooting advice, and even handling customer complaints.\n",
      "7. Predicting customer behavior: AI can help you predict customer behavior by identifying patterns and trends. This information can then be used to optimize your website and improve customer satisfaction.\n",
      "8. Providing personalized recommendations: AI can be used to provide personalized recommendations on your website. This can include suggesting products to customers, offering tailored content, and even suggesting products or services based on customer behavior.\n",
      "9. Live chat: AI chatbots can be used to provide Customer support in live chat. they can be programmed with answers to common questions and can help with troubleshooting. This can save time and resources for customer service team.\n",
      "10. Lead Generation: AI can also be used for Lead Generation by using data from prospective customers.\n"
     ]
    }
   ],
   "source": [
    "with open (f\"{model}-output.txt\", 'a') as j2_file:\n",
    "    j2_file.write(f\"Prompt: \\n {prompt}\")\n",
    "    j2_file.write(\"\\nOutput: \\n \")\n",
    "    output = ai21.Completion.execute(   model = model, \n",
    "                                        prompt = prompt,\n",
    "                                        maxTokens = maxTokens,\n",
    "                                        minTokens = minTokens\n",
    "                                        ).__dict__\n",
    "    output_str = output['completions'][0]['data']['text']\n",
    "    print(output_str)\n",
    "    j2_file.write(output_str[1:])\n",
    "    j2_file.write(f\"\\n(Tokens: {len(output_str[2:].split())})(minTokens: {minTokens}),(maxTokens: {maxTokens}) \\\n",
    "                    \\n-------\\n\")\n",
    "    j2_file.close()\n"
   ]
  }
 ],
 "metadata": {
  "kernelspec": {
   "display_name": "Python 3",
   "language": "python",
   "name": "python3"
  },
  "language_info": {
   "codemirror_mode": {
    "name": "ipython",
    "version": 3
   },
   "file_extension": ".py",
   "mimetype": "text/x-python",
   "name": "python",
   "nbconvert_exporter": "python",
   "pygments_lexer": "ipython3",
   "version": "3.11.2"
  },
  "orig_nbformat": 4
 },
 "nbformat": 4,
 "nbformat_minor": 2
}
