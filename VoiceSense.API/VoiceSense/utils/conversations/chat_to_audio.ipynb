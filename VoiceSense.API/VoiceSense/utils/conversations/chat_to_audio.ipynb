{
 "cells": [
  {
   "cell_type": "code",
   "execution_count": 1,
   "metadata": {},
   "outputs": [],
   "source": [
    "from whatsapp import whatsapp_chat_to_list,whatsapp_chatfile_to_list\n",
    "from audiogen import audio_generator,chat_to_audio\n",
    "from whatsapp import append_audio_to_mpeg\n",
    "import pandas as pd"
   ]
  },
  {
   "cell_type": "code",
   "execution_count": 7,
   "metadata": {},
   "outputs": [],
   "source": [
    "df = pd.read_csv('voices_id.csv')\n",
    "persononevoice_id = df['voice_id']"
   ]
  },
  {
   "cell_type": "code",
   "execution_count": 13,
   "metadata": {},
   "outputs": [
    {
     "data": {
      "text/plain": [
       "'TxGEqnHWrfWFTfGW9XjX'"
      ]
     },
     "execution_count": 13,
     "metadata": {},
     "output_type": "execute_result"
    }
   ],
   "source": [
    "df[df['names']=='Josh']['voice_id'].values[0]"
   ]
  },
  {
   "cell_type": "code",
   "execution_count": 3,
   "metadata": {},
   "outputs": [
    {
     "name": "stdout",
     "output_type": "stream",
     "text": [
      "6\n",
      "['Yes there are timezones. And if You fly from one place to another there are some jet lags.', 'What are jet lags?', 'It’s strange body experience -- according to travelling fastly and changing timezone.', 'Ohh', 'It can affect person, when changing 3 timezones.', 'Many people might have trouble with that. Jet lags']\n"
     ]
    }
   ],
   "source": [
    "personone ='Liam'\n",
    "persontwo = 'Rachel'\n",
    "chat_to_audio('clipboardchat.txt',personone,persontwo)"
   ]
  }
 ],
 "metadata": {
  "kernelspec": {
   "display_name": "Python 3",
   "language": "python",
   "name": "python3"
  },
  "language_info": {
   "codemirror_mode": {
    "name": "ipython",
    "version": 3
   },
   "file_extension": ".py",
   "mimetype": "text/x-python",
   "name": "python",
   "nbconvert_exporter": "python",
   "pygments_lexer": "ipython3",
   "version": "3.11.2"
  },
  "orig_nbformat": 4
 },
 "nbformat": 4,
 "nbformat_minor": 2
}
